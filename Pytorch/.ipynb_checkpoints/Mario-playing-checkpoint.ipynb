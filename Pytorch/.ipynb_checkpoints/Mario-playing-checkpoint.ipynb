{
 "cells": [
  {
   "cell_type": "code",
   "execution_count": null,
   "outputs": [],
   "source": [
    "import torch\n",
    "from torch import nn\n",
    "from torchvision import transforms as T\n",
    "from PIL import Image\n",
    "import numpy as np\n",
    "from pathlib import Path\n",
    "from collections import deque\n",
    "import random,datetime,os\n",
    "\n",
    "import gym\n",
    "from gym.spaces import Box\n",
    "from gym.wrappers import FrameStack\n",
    "\n",
    "# NES Emulator for OpenAI Gym\n",
    "from nes_py.wrappers import JoypadSpace\n",
    "\n",
    "# Super Mario environment for OpenAI Gym\n",
    "import gym_super_mario_bros\n",
    "from tensordict import TensorDict\n",
    "from torchrl.data import TensorDictReplayBuffer,LazyMemmapStorage"
   ],
   "metadata": {
    "collapsed": false,
    "pycharm": {
     "name": "#%%\n"
    }
   }
  },
  {
   "cell_type": "markdown",
   "source": [
    "## Environment\n",
    "### Initialize Environment\n",
    "In Mario, the environment consists of tubes, mushrooms and other components."
   ],
   "metadata": {
    "collapsed": false
   }
  },
  {
   "cell_type": "code",
   "execution_count": null,
   "outputs": [],
   "source": [
    "# Initialize Super Mario environment\n",
    "if gym.__version__<'0.26':\n",
    "    env=gym_super_mario_bros.make(\"SuperMarioBros-1-1-v0\",new_step_api=True)\n",
    "else:\n",
    "    env=gym_super_mario_bros.make(\"SuperMarioBros-1-1-v0\",render_mode='rgb',apply_api_compatibility=True)\n",
    "\n",
    "# Limit the action_space to\n",
    "# 0. walk right\n",
    "# 1.jump right\n",
    "env = JoypadSpace(env,[[\"right\"],[\"right\",\"A\"]])\n",
    "\n",
    "env.reset()\n",
    "next_state,reward,done,trunc,info=env.step(action=0)\n",
    "print(f\"{next_state.shape},\\n {reward},\\n {done},\\n {info}\")"
   ],
   "metadata": {
    "collapsed": false,
    "pycharm": {
     "name": "#%%\n"
    }
   }
  },
  {
   "cell_type": "code",
   "execution_count": null,
   "outputs": [],
   "source": [],
   "metadata": {
    "collapsed": false,
    "pycharm": {
     "name": "#%%\n"
    }
   }
  }
 ],
 "metadata": {
  "kernelspec": {
   "display_name": "Python 3",
   "language": "python",
   "name": "python3"
  },
  "language_info": {
   "codemirror_mode": {
    "name": "ipython",
    "version": 2
   },
   "file_extension": ".py",
   "mimetype": "text/x-python",
   "name": "python",
   "nbconvert_exporter": "python",
   "pygments_lexer": "ipython2",
   "version": "2.7.6"
  }
 },
 "nbformat": 4,
 "nbformat_minor": 0
}